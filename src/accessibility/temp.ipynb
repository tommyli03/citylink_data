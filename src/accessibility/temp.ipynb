{
 "cells": [
  {
   "cell_type": "code",
   "execution_count": null,
   "metadata": {},
   "outputs": [],
   "source": [
    "from src.travel_time_computation.prepare_data import prepare_data_Baltimore\n",
    "import pandas as pd\n",
    "\n",
    "block_group_shapefile_path = '../../raw_data/block_group/tl_2020_24_tabblock20.shp'\n",
    "md_rac_path = '../../raw_data/md_rac_S000_JT00_2020.csv.gz'\n",
    "md_wac_path = '../../raw_data/md_wac_S000_JT00_2020.csv.gz'\n",
    "\n",
    "md_rac_df, md_wac_df = prepare_data_Baltimore(block_group_shapefile_path, md_rac_path, md_wac_path)"
   ]
  },
  {
   "cell_type": "code",
   "execution_count": null,
   "metadata": {},
   "outputs": [],
   "source": [
    "import pandas as pd\n",
    "\n",
    "median_accessibility = pd.read_csv('median_accessibility.csv')"
   ]
  },
  {
   "cell_type": "code",
   "execution_count": null,
   "metadata": {},
   "outputs": [],
   "source": [
    "merged_df = median_accessibility.merge(md_rac_df, left_on = 'h_geocode', right_on = 'id')"
   ]
  },
  {
   "cell_type": "code",
   "execution_count": null,
   "metadata": {},
   "outputs": [],
   "source": [
    "def extract_tract(GEOID):\n",
    "    GEOID = str(GEOID)\n",
    "    return GEOID[:11]\n",
    "\n",
    "merged_df['tract'] = merged_df['h_geocode'].apply(extract_tract)"
   ]
  },
  {
   "cell_type": "code",
   "execution_count": null,
   "metadata": {},
   "outputs": [],
   "source": [
    "new_df = merged_df['gravity'].groupby(merged_df['tract']).mean() / merged_df['C000'].groupby(merged_df['tract']).sum()"
   ]
  },
  {
   "cell_type": "code",
   "execution_count": null,
   "metadata": {},
   "outputs": [],
   "source": [
    "# Import modules\n",
    "import matplotlib.pyplot as plt\n",
    "import pandas as pd\n",
    "import geopandas as gpd\n",
    "from census import Census\n",
    "from us import states\n",
    "\n",
    "c = Census(\"93c3297165ad8b5b6c81e0ed9e2e44a38e56224f\")\n",
    "\n",
    "md_tract = gpd.read_file(\"https://www2.census.gov/geo/tiger/TIGER2022/TRACT/tl_2022_24_tract.zip\")\n"
   ]
  },
  {
   "cell_type": "code",
   "execution_count": null,
   "metadata": {},
   "outputs": [],
   "source": [
    "\n",
    "# Reproject shapefile to UTM Zone 17N\n",
    "# https://spatialreference.org/ref/epsg/wgs-84-utm-zone-17n/\n",
    "md_tract = md_tract.to_crs(epsg = 32617)\n",
    "\n",
    "# Print GeoDataFrame of shapefile\n",
    "print(md_tract.head(2))"
   ]
  },
  {
   "cell_type": "code",
   "execution_count": null,
   "metadata": {},
   "outputs": [],
   "source": [
    "# convert new_df to dataframe and change index into a column\n",
    "new_df = new_df.reset_index()\n",
    "new_df"
   ]
  },
  {
   "cell_type": "code",
   "execution_count": null,
   "metadata": {},
   "outputs": [],
   "source": [
    "# change column name from 0 to access_by_pop\n",
    "new_df = new_df.rename(columns = {0: 'access_by_pop'})"
   ]
  },
  {
   "cell_type": "code",
   "execution_count": null,
   "metadata": {},
   "outputs": [],
   "source": [
    "new_df"
   ]
  },
  {
   "cell_type": "code",
   "execution_count": null,
   "metadata": {},
   "outputs": [],
   "source": [
    "final = md_tract.merge(new_df, left_on = 'GEOID', right_on = 'tract')"
   ]
  },
  {
   "cell_type": "code",
   "execution_count": null,
   "metadata": {},
   "outputs": [],
   "source": [
    "final"
   ]
  },
  {
   "cell_type": "code",
   "execution_count": null,
   "metadata": {},
   "outputs": [],
   "source": [
    "final['access_by_pop'][final['access_by_pop'] > 50] = 50"
   ]
  },
  {
   "cell_type": "code",
   "execution_count": null,
   "metadata": {},
   "outputs": [],
   "source": [
    "final.explore(column = 'access_by_pop', cmap='Greens',\n",
    "                style_kwds=dict(color=\"black\",weight=1, opacity=0.3, fillOpacity=0.8, edgecolor='none'))"
   ]
  }
 ],
 "metadata": {
  "kernelspec": {
   "display_name": ".venv",
   "language": "python",
   "name": "python3"
  },
  "language_info": {
   "codemirror_mode": {
    "name": "ipython",
    "version": 3
   },
   "file_extension": ".py",
   "mimetype": "text/x-python",
   "name": "python",
   "nbconvert_exporter": "python",
   "pygments_lexer": "ipython3",
   "version": "3.10.9"
  },
  "orig_nbformat": 4
 },
 "nbformat": 4,
 "nbformat_minor": 2
}
