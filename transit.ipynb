{
 "cells": [
  {
   "cell_type": "code",
   "execution_count": 2,
   "metadata": {},
   "outputs": [],
   "source": [
    "import zipfile\n",
    "import geopandas as gpd\n",
    "import requests\n",
    "\n",
    "zip_file_path = 'tl_2020_24_tabblock20.zip'\n",
    "\n",
    "# Open the ZIP file\n",
    "with zipfile.ZipFile(zip_file_path, 'r') as zip_ref:\n",
    "    # Extract all files to the current working directory\n",
    "    zip_ref.extractall()\n",
    "\n",
    "shapefile_path = 'tl_2020_24_tabblock20.shp'\n",
    "block_gdf = gpd.read_file(shapefile_path)"
   ]
  },
  {
   "cell_type": "code",
   "execution_count": 3,
   "metadata": {},
   "outputs": [
    {
     "name": "stdout",
     "output_type": "stream",
     "text": [
      "File downloaded successfully.\n"
     ]
    }
   ],
   "source": [
    "url = \"https://transit.land/api/v2/rest/feed_versions/8523f088e05dcd273b369dd4d65eb771c73c0a22/download?apikey=T2Jljq0EQqqe1JMfijkn3RdtVxoYpwuq\"\n",
    "response = requests.get(url)\n",
    "\n",
    "if response.status_code == 200:\n",
    "    with open(\"output.zip\", \"wb\") as f:\n",
    "        f.write(response.content)\n",
    "    print(\"File downloaded successfully.\")\n",
    "else:\n",
    "    print(\"Failed to download the file.\")"
   ]
  },
  {
   "cell_type": "code",
   "execution_count": 3,
   "metadata": {},
   "outputs": [],
   "source": [
    "import os\n",
    "\n",
    "zip_file_path = 'output.zip'\n",
    "extract_to_folder = 'transitland'\n",
    "os.makedirs(extract_to_folder, exist_ok=True)\n",
    "\n",
    "# Open the ZIP file\n",
    "with zipfile.ZipFile(zip_file_path, 'r') as zip_ref:\n",
    "    # Extract all files to the current working directory\n",
    "    zip_ref.extractall(extract_to_folder)"
   ]
  },
  {
   "cell_type": "code",
   "execution_count": 4,
   "metadata": {},
   "outputs": [],
   "source": [
    "import pandas as pd"
   ]
  },
  {
   "cell_type": "code",
   "execution_count": 5,
   "metadata": {},
   "outputs": [
    {
     "name": "stderr",
     "output_type": "stream",
     "text": [
      "/Users/yangxinyuxie/miniforge3/envs/aaforecast/lib/python3.11/site-packages/geopandas/geodataframe.py:1538: SettingWithCopyWarning: \n",
      "A value is trying to be set on a copy of a slice from a DataFrame.\n",
      "Try using .loc[row_indexer,col_indexer] = value instead\n",
      "\n",
      "See the caveats in the documentation: https://pandas.pydata.org/pandas-docs/stable/user_guide/indexing.html#returning-a-view-versus-a-copy\n",
      "  super().__setitem__(key, value)\n"
     ]
    }
   ],
   "source": [
    "#CODE FOR BLOCKS\n",
    "compressed_csv_file_home = 'md_rac_S000_JT00_2020.csv.gz'\n",
    "compressed_csv_file_work = 'md_wac_S000_JT00_2020.csv.gz'\n",
    "gdf_filtered = block_gdf[block_gdf['COUNTYFP20'] == '510']\n",
    "\n",
    "df_origins_blocks = pd.read_csv(compressed_csv_file_home)\n",
    "df_destinations_blocks = pd.read_csv(compressed_csv_file_work)\n",
    "\n",
    "df_origins_blocks['h_geocode'] = df_origins_blocks['h_geocode'].astype(str)\n",
    "df_destinations_blocks['w_geocode'] = df_destinations_blocks['w_geocode'].astype(str)\n",
    "\n",
    "df_origins_blocks = df_origins_blocks[(df_origins_blocks['h_geocode'].str[:5] == '24510') & (df_origins_blocks['C000'] != 0)]\n",
    "df_destinations_blocks = df_destinations_blocks[(df_destinations_blocks['w_geocode'].str[:5] == '24510') & (df_destinations_blocks['C000'] != 0)]\n",
    "\n",
    "df_origins_blocks['h_geocode'] = df_origins_blocks['h_geocode'].astype(int)\n",
    "df_destinations_blocks['w_geocode'] = df_destinations_blocks['w_geocode'].astype(int)\n",
    "\n",
    "gdf_filtered['GEOID20'] = gdf_filtered['GEOID20'].astype(int)\n",
    "origins_merged_blocks = gdf_filtered.merge(df_origins_blocks, left_on = 'GEOID20', right_on = 'h_geocode')\n",
    "destinations_merged_blocks = gdf_filtered.merge(df_destinations_blocks, left_on = 'GEOID20', right_on = 'w_geocode')\n",
    "\n",
    "#origins_merged = origins_merged[['STATEFP', 'COUNTYFP', 'TRACTCE', 'BLKGRPCE', 'GEOID', 'NAMELSAD', 'MTFCC', 'FUNCSTAT', 'ALAND', 'AWATER', 'INTPTLAT', 'INTPTLON', 'geometry', 'h_geocode', 'C000']]\n",
    "#destinations_merged = destinations_merged[['STATEFP', 'COUNTYFP', 'TRACTCE', 'BLKGRPCE', 'GEOID', 'NAMELSAD', 'MTFCC', 'FUNCSTAT', 'ALAND', 'AWATER', 'INTPTLAT', 'INTPTLON', 'geometry', 'w_geocode', 'C000']]\n",
    "\n",
    "origins_merged_blocks['id'] = origins_merged_blocks.index\n",
    "destinations_merged_blocks['id'] = destinations_merged_blocks.index"
   ]
  },
  {
   "cell_type": "code",
   "execution_count": 6,
   "metadata": {},
   "outputs": [],
   "source": [
    "from shapely.geometry import Point\n",
    "\n",
    "# Convert latitude and longitude columns to float data types\n",
    "origins_merged_blocks['INTPTLAT20'] = origins_merged_blocks['INTPTLAT20'].astype(float)\n",
    "origins_merged_blocks['INTPTLON20'] = origins_merged_blocks['INTPTLON20'].astype(float)\n",
    "origins_merged_blocks['geometry'] = origins_merged_blocks.apply(lambda row: Point(row['INTPTLON20'], row['INTPTLAT20']), axis=1)\n",
    "\n",
    "destinations_merged_blocks['INTPTLAT20'] = destinations_merged_blocks['INTPTLAT20'].astype(float)\n",
    "destinations_merged_blocks['INTPTLON20'] = destinations_merged_blocks['INTPTLON20'].astype(float)\n",
    "destinations_merged_blocks['geometry'] = destinations_merged_blocks.apply(lambda row: Point(row['INTPTLON20'], row['INTPTLAT20']), axis=1)"
   ]
  },
  {
   "cell_type": "code",
   "execution_count": 7,
   "metadata": {},
   "outputs": [
    {
     "name": "stderr",
     "output_type": "stream",
     "text": [
      "/Users/yangxinyuxie/miniforge3/envs/aaforecast/lib/python3.11/site-packages/IPython/core/interactiveshell.py:3508: DtypeWarning: Columns (15) have mixed types.Specify dtype option on import or set low_memory=False.\n",
      "  exec(code_obj, self.user_global_ns, self.user_ns)\n"
     ]
    }
   ],
   "source": [
    "accurate_times = pd.read_csv('bus_accurate_data.csv')\n",
    "accurate_times['scheduled_visit_time'] = pd.to_datetime(accurate_times['scheduled_visit_time'])\n",
    "accurate_times['date'] = accurate_times['scheduled_visit_time'].dt.date\n",
    "accurate_times.rename(columns={'vehicle_stop_id': 'stop_id'}, inplace=True)\n",
    "def filter_by_time(trip_data):\n",
    "    hour = trip_data.reset_index()['scheduled_visit_time'][0].hour\n",
    "    if (hour >= 7) and (hour < 10):\n",
    "        return trip_data\n",
    "    else:\n",
    "        return None\n",
    "\n",
    "accurate_times = accurate_times.groupby(\"trip_id\").apply(filter_by_time).reset_index(drop=True)\n",
    "accurate_times['scheduled_visit_time'] = accurate_times['scheduled_visit_time'].dt.strftime('%H:%M:%S')\n",
    "observed_mask = accurate_times['observed_visit_time'].notna()\n",
    "accurate_times.loc[observed_mask, ['observed_visit_time']] = pd.to_datetime(accurate_times['observed_visit_time'][observed_mask]).dt.strftime('%H:%M:%S')\n",
    "unique_dates = accurate_times['date'].unique()\n",
    "filtered_dfs = {}\n",
    "for date in unique_dates:\n",
    "    filtered_dfs[date] = accurate_times[accurate_times['date'] == date]"
   ]
  },
  {
   "cell_type": "code",
   "execution_count": 21,
   "metadata": {},
   "outputs": [],
   "source": [
    "from datetime import datetime\n",
    "\n",
    "gtfs_stop_times = pd.read_csv('transitland/stop_times.txt')\n",
    "\n",
    "for date, filtered_df in filtered_dfs.items():\n",
    "    merged_df = gtfs_stop_times.merge(filtered_df[['trip_id', 'stop_id', 'observed_visit_time', \n",
    "                                                   'scheduled_visit_time', 'trip_distance_traveled']], on=['trip_id', 'stop_id'], how=\"left\")\n",
    "\n",
    "    merged_df = merged_df[merged_df['scheduled_visit_time'].notna()]\n",
    "\n",
    "    observed_mask = merged_df['observed_visit_time'].notna()\n",
    "    merged_df.loc[observed_mask, ['arrival_time', 'departure_time']] = merged_df.loc[observed_mask, 'observed_visit_time']\n",
    "    merged_df.loc[~observed_mask, ['arrival_time', 'departure_time']] = ''\n",
    "\n",
    "    merged_df.drop(columns=['observed_visit_time'], inplace=True)\n",
    "\n",
    "    merged_df.to_csv(f'stop_times/stop_times_{date}.txt', index=False)"
   ]
  },
  {
   "cell_type": "code",
   "execution_count": 9,
   "metadata": {},
   "outputs": [],
   "source": [
    "# for date, filtered_df in filtered_dfs.items():\n",
    "#     gtfs_stop_times = pd.read_csv('transitland/stop_times.txt')\n",
    "#     gtfs_stop_times = gtfs_stop_times.merge(filtered_df[['trip_id', 'stop_id', 'observed_visit_time', 'scheduled_visit_time']], on=['trip_id', 'stop_id'], how = \"left\")\n",
    "\n",
    "#     observed_mask = gtfs_stop_times['scheduled_visit_time'].notna()\n",
    "#     gtfs_stop_times.loc[observed_mask, ['arrival_time', 'departure_time']] = gtfs_stop_times.loc[observed_mask, 'scheduled_visit_time']\n",
    "#     gtfs_stop_times.loc[~observed_mask, ['arrival_time', 'departure_time']] = ''\n",
    "\n",
    "#     gtfs_stop_times['arrival_time'] = pd.to_datetime(gtfs_stop_times['arrival_time'])\n",
    "#     gtfs_stop_times['departure_time'] = pd.to_datetime(gtfs_stop_times['departure_time'])\n",
    "\n",
    "#     gtfs_stop_times['arrival_time'] = gtfs_stop_times['arrival_time'].dt.strftime('%H:%M:%S')\n",
    "#     gtfs_stop_times['departure_time'] = gtfs_stop_times['departure_time'].dt.strftime('%H:%M:%S')\n",
    "\n",
    "#     gtfs_stop_times.drop(columns=['observed_visit_time'], inplace=True)\n",
    "\n",
    "#     gtfs_stop_times.to_csv(f'transitland/stop_times_{date}.txt', index=False)"
   ]
  },
  {
   "cell_type": "code",
   "execution_count": 24,
   "metadata": {},
   "outputs": [],
   "source": [
    "current_folder = os.getcwd()  # Get the current working directory (where your IPython Notebook is located)\n",
    "stop_times_folder = os.path.join(current_folder, 'stop_times')\n",
    "\n",
    "folder_path = stop_times_folder\n",
    "file_paths = []\n",
    "\n",
    "# Loop through the files in the folder\n",
    "for file in os.listdir(folder_path):\n",
    "    if file.endswith(\".txt\"):\n",
    "        file_paths.append(os.path.join(folder_path, file))"
   ]
  },
  {
   "cell_type": "code",
   "execution_count": 10,
   "metadata": {},
   "outputs": [],
   "source": [
    "def to_time(time_string):\n",
    "    return datetime.strptime(time_string, \"%H:%M:%S\")\n",
    "\n",
    "def get_time_diff(before, after):\n",
    "    return datetime.strptime(after, \"%H:%M:%S\") - datetime.strptime(before, \"%H:%M:%S\")\n",
    "\n",
    "def get_time_diff_rev(after, before):\n",
    "    return datetime.strptime(after, \"%H:%M:%S\") - datetime.strptime(before, \"%H:%M:%S\")"
   ]
  },
  {
   "cell_type": "code",
   "execution_count": 26,
   "metadata": {},
   "outputs": [],
   "source": [
    "def fill_missing_times(trip_df):\n",
    "    known_times = trip_df.dropna(subset=[\"arrival_time\"])\n",
    "    if (len(known_times) == len(trip_df)) or len(known_times) == 0:\n",
    "        return trip_df\n",
    "    \n",
    "    # Iterate through known time points to calculate and apply estimated times\n",
    "    for i in range(1, len(known_times)):\n",
    "        prev_row = known_times.iloc[i - 1]\n",
    "        next_row = known_times.iloc[i]\n",
    "        mask = (trip_df[\"arrival_time\"].isna()) & \\\n",
    "            (trip_df[\"trip_distance_traveled\"] >= prev_row[\"trip_distance_traveled\"]) & \\\n",
    "                (trip_df[\"trip_distance_traveled\"] <= next_row[\"trip_distance_traveled\"])\n",
    "        if len(trip_df[mask]) > 0:\n",
    "            # Calculate time difference and speed for this segment\n",
    "            time_difference = get_time_diff(prev_row[\"arrival_time\"], next_row[\"arrival_time\"])\n",
    "            distance_difference = next_row[\"trip_distance_traveled\"] - prev_row[\"trip_distance_traveled\"]\n",
    "            speed = distance_difference / time_difference.total_seconds()\n",
    "            \n",
    "            # Calculate and update estimated arrival and departure times for missing rows within the segment\n",
    "            trip_df.loc[mask, \"arrival_time\"] = to_time(prev_row[\"arrival_time\"]) + \\\n",
    "                pd.to_timedelta((trip_df.loc[mask, \"trip_distance_traveled\"] - prev_row[\"trip_distance_traveled\"]) / speed, unit=\"s\")\n",
    "            trip_df.loc[mask, \"arrival_time\"] = pd.to_datetime(trip_df['arrival_time'][mask]).dt.strftime('%H:%M:%S')\n",
    "    \n",
    "    known_times.reset_index(inplace= True)\n",
    "\n",
    "    # Impute the first stop\n",
    "    cur_row = known_times.iloc[0]\n",
    "    mask = (trip_df[\"arrival_time\"].isna()) & (trip_df[\"trip_distance_traveled\"] <= cur_row[\"trip_distance_traveled\"])\n",
    "    if len(trip_df[mask]) > 0:\n",
    "        \n",
    "        trip_df.loc[mask, \"arrival_time\"] = \\\n",
    "            (to_time(cur_row['arrival_time']) - \\\n",
    "             trip_df[\"scheduled_visit_time\"][mask].apply(get_time_diff, args = (cur_row[\"scheduled_visit_time\"],))).dt.strftime('%H:%M:%S')\n",
    "\n",
    "    # Impute the last stop\n",
    "    cur_row = known_times.iloc[len(known_times) - 1]\n",
    "    mask = (trip_df[\"arrival_time\"].isna()) & (trip_df[\"trip_distance_traveled\"] >= cur_row[\"trip_distance_traveled\"])\n",
    "    if len(trip_df[mask]) > 0:\n",
    "\n",
    "        trip_df.loc[mask, \"arrival_time\"] = \\\n",
    "            (to_time(cur_row['arrival_time']) + \\\n",
    "             trip_df[\"scheduled_visit_time\"][mask].apply(get_time_diff_rev, args = (cur_row[\"scheduled_visit_time\"],))).dt.strftime('%H:%M:%S')\n",
    "    \n",
    "\n",
    "    trip_df['departure_time'] = trip_df['arrival_time']\n",
    "    return trip_df\n",
    "\n",
    "for file_path in file_paths:\n",
    "    result_df = pd.read_csv(file_path)\n",
    "    result_df = result_df.groupby(\"trip_id\").apply(fill_missing_times)\n",
    "    result_df.drop(columns=['scheduled_visit_time', 'trip_distance_traveled'], inplace=True)\n",
    "    result_df.to_csv(file_path, index=False)  "
   ]
  },
  {
   "cell_type": "code",
   "execution_count": 27,
   "metadata": {},
   "outputs": [],
   "source": [
    "import random\n",
    "import os\n",
    "import pandas as pd\n",
    "\n",
    "def load_data(file_path):\n",
    "    df = pd.read_csv(file_path)\n",
    "    return df\n",
    "\n",
    "def replace_data(trip_id):\n",
    "    file_rand = random.sample(file_paths, len(file_paths))\n",
    "    for filePath in file_rand:\n",
    "        df = load_data(filePath)\n",
    "        trip_ids_to_replace = df.loc[df.arrival_time.isna()].trip_id.unique()\n",
    "        if trip_id not in trip_ids_to_replace:\n",
    "            return df.loc[df.trip_id == trip_id] \n",
    "\n",
    "updated_folder = \"stop_times_updated\"\n",
    "os.makedirs(updated_folder, exist_ok=True)  \n",
    "\n",
    "for file in file_paths:\n",
    "    df = load_data(file)\n",
    "    trip_ids_to_replace = df.loc[df.arrival_time.isna()].trip_id.unique()\n",
    "    for trip_id in trip_ids_to_replace:\n",
    "        new_data = replace_data(trip_id)\n",
    "        df = df.loc[df.trip_id != trip_id]\n",
    "        df = df.append(new_data)\n",
    "    trip_ids_to_replace = df.loc[df.arrival_time.isna()].trip_id.unique()\n",
    "    #df.to_csv(f'updated_{file}', index=False)\n",
    "    updated_file_path = os.path.join(updated_folder, f'updated_{os.path.basename(file)}')\n",
    "    df.to_csv(updated_file_path, index=False)\n",
    "    #df.to_csv(os.path.join(folder_path, f'{file}'), index=False)"
   ]
  },
  {
   "cell_type": "code",
   "execution_count": 29,
   "metadata": {},
   "outputs": [
    {
     "name": "stdout",
     "output_type": "stream",
     "text": [
      "Processed updated_stop_times_2023-03-06.txt\n"
     ]
    }
   ],
   "source": [
    "import os\n",
    "import shutil\n",
    "import zipfile\n",
    "from io import StringIO\n",
    "import pandas as pd\n",
    "\n",
    "stop_times_folder = 'stop_times_updated'\n",
    "transitland_folder = 'transitland'\n",
    "zipfiles_folder = 'zipfiles'\n",
    "trips_folder = 'transitland/trips.txt'\n",
    "\n",
    "\n",
    "for filename in os.listdir(stop_times_folder)[:1]:\n",
    "    times = pd.read_csv(f\"{stop_times_folder}/{filename}\")\n",
    "    trips = pd.read_csv('trips_copy.txt')  # Load trip_content as DataFrame\n",
    "    unique_trip_ids = times['trip_id'].unique()\n",
    "    trips = trips[trips['trip_id'].isin(unique_trip_ids)]\n",
    "    \n",
    "    #routes = pd.read_csv(f\"{transitland_folder}/routes.txt\")\n",
    "    #unique_route_ids = trips['route_id'].unique()\n",
    "    #routes = routes[routes['route_id'].isin(unique_route_ids)]\n",
    "    #directions = pd.read_csv(f\"{transitland_folder}/directions.txt\")\n",
    "    #directions = directions[directions['route_id'].isin(unique_route_ids)]\n",
    "    trips.to_csv(trips_folder, index=False)\n",
    "    times.to_csv(f'{transitland_folder}/stop_times.txt', index=False)\n",
    "    #routes.to_csv(f\"{transitland_folder}/routes.txt\", index=False)\n",
    "    #directions.to_csv(f\"{transitland_folder}/directions.txt\", index=False)\n",
    "\n",
    "    \n",
    "    zip_filename = f'{os.path.splitext(filename)[0]}.zip'\n",
    "    zip_path = os.path.join(zipfiles_folder, zip_filename)\n",
    "    with zipfile.ZipFile(zip_path, 'w', zipfile.ZIP_DEFLATED) as zipf:\n",
    "        for root, _, files in os.walk(transitland_folder):\n",
    "            for file in files:\n",
    "                file_path = os.path.join(root, file)\n",
    "                arcname = os.path.relpath(file_path, transitland_folder)\n",
    "                zipf.write(file_path, arcname)\n",
    "        \n",
    "\n",
    "    print(f'Processed {filename}')\n"
   ]
  },
  {
   "cell_type": "code",
   "execution_count": 30,
   "metadata": {},
   "outputs": [
    {
     "name": "stdout",
     "output_type": "stream",
     "text": [
      "Files extracted successfully!\n"
     ]
    }
   ],
   "source": [
    "import zipfile\n",
    "import os\n",
    "\n",
    "# Path to the zip file\n",
    "zip_file_path = 'zipfiles/updated_stop_times_2023-03-06.zip'\n",
    "\n",
    "# Directory where you want to extract the contents\n",
    "extract_path = 'zipfiles_test'\n",
    "\n",
    "# Open the zip file\n",
    "with zipfile.ZipFile(zip_file_path, 'r') as zip_ref:\n",
    "    # Extract all the contents to the specified directory\n",
    "    zip_ref.extractall(extract_path)\n",
    "\n",
    "print(\"Files extracted successfully!\")\n"
   ]
  },
  {
   "cell_type": "code",
   "execution_count": 31,
   "metadata": {},
   "outputs": [
    {
     "name": "stdout",
     "output_type": "stream",
     "text": [
      "CPU times: user 1.83 s, sys: 705 ms, total: 2.54 s\n",
      "Wall time: 2.73 s\n"
     ]
    }
   ],
   "source": [
    "%%time\n",
    "# Allow 6 GB memory\n",
    "import sys\n",
    "sys.argv.append([\"--max-memory\", \"6G\"])\n",
    "\n",
    "import datetime\n",
    "from r5py import TransportNetwork, TravelTimeMatrixComputer, TransitMode, LegMode\n",
    "\n",
    "# # Filepath to OSM data\n",
    "osm_fp = \"maryland-latest.osm.pbf\""
   ]
  },
  {
   "cell_type": "code",
   "execution_count": 32,
   "metadata": {},
   "outputs": [],
   "source": [
    "travel_time_matrix = []\n",
    "\n",
    "\n",
    "# zip_path = os.path.join(zipfiles_folder, zip_filename)\n",
    "transport_network = TransportNetwork(\n",
    "    osm_fp,\n",
    "    [\n",
    "        zip_file_path,\n",
    "    ]\n",
    ")"
   ]
  },
  {
   "cell_type": "code",
   "execution_count": 33,
   "metadata": {},
   "outputs": [],
   "source": [
    "travel_time_matrix_computer = TravelTimeMatrixComputer(\n",
    "    transport_network,\n",
    "    origins=origins_merged_blocks,\n",
    "    destinations=destinations_merged_blocks,\n",
    "    departure=datetime.datetime(2023,1,19,8,30),\n",
    "    transport_modes=[TransitMode.BUS, LegMode.WALK],\n",
    ")\n",
    "travel_time_matrix_blocks = travel_time_matrix_computer.compute_travel_times()\n",
    "travel_time_matrix.append(travel_time_matrix_blocks)"
   ]
  },
  {
   "cell_type": "code",
   "execution_count": 41,
   "metadata": {},
   "outputs": [
    {
     "data": {
      "text/html": [
       "<div>\n",
       "<style scoped>\n",
       "    .dataframe tbody tr th:only-of-type {\n",
       "        vertical-align: middle;\n",
       "    }\n",
       "\n",
       "    .dataframe tbody tr th {\n",
       "        vertical-align: top;\n",
       "    }\n",
       "\n",
       "    .dataframe thead th {\n",
       "        text-align: right;\n",
       "    }\n",
       "</style>\n",
       "<table border=\"1\" class=\"dataframe\">\n",
       "  <thead>\n",
       "    <tr style=\"text-align: right;\">\n",
       "      <th></th>\n",
       "      <th>from_id</th>\n",
       "      <th>to_id</th>\n",
       "      <th>travel_time</th>\n",
       "    </tr>\n",
       "  </thead>\n",
       "  <tbody>\n",
       "    <tr>\n",
       "      <th>7</th>\n",
       "      <td>0</td>\n",
       "      <td>7</td>\n",
       "      <td>37.0</td>\n",
       "    </tr>\n",
       "    <tr>\n",
       "      <th>8</th>\n",
       "      <td>0</td>\n",
       "      <td>8</td>\n",
       "      <td>101.0</td>\n",
       "    </tr>\n",
       "    <tr>\n",
       "      <th>10</th>\n",
       "      <td>0</td>\n",
       "      <td>10</td>\n",
       "      <td>57.0</td>\n",
       "    </tr>\n",
       "    <tr>\n",
       "      <th>25</th>\n",
       "      <td>0</td>\n",
       "      <td>25</td>\n",
       "      <td>30.0</td>\n",
       "    </tr>\n",
       "    <tr>\n",
       "      <th>26</th>\n",
       "      <td>0</td>\n",
       "      <td>26</td>\n",
       "      <td>22.0</td>\n",
       "    </tr>\n",
       "    <tr>\n",
       "      <th>...</th>\n",
       "      <td>...</td>\n",
       "      <td>...</td>\n",
       "      <td>...</td>\n",
       "    </tr>\n",
       "    <tr>\n",
       "      <th>3404</th>\n",
       "      <td>8291</td>\n",
       "      <td>3404</td>\n",
       "      <td>82.0</td>\n",
       "    </tr>\n",
       "    <tr>\n",
       "      <th>3405</th>\n",
       "      <td>8291</td>\n",
       "      <td>3405</td>\n",
       "      <td>106.0</td>\n",
       "    </tr>\n",
       "    <tr>\n",
       "      <th>3407</th>\n",
       "      <td>8291</td>\n",
       "      <td>3407</td>\n",
       "      <td>77.0</td>\n",
       "    </tr>\n",
       "    <tr>\n",
       "      <th>3408</th>\n",
       "      <td>8291</td>\n",
       "      <td>3408</td>\n",
       "      <td>62.0</td>\n",
       "    </tr>\n",
       "    <tr>\n",
       "      <th>3410</th>\n",
       "      <td>8291</td>\n",
       "      <td>3410</td>\n",
       "      <td>107.0</td>\n",
       "    </tr>\n",
       "  </tbody>\n",
       "</table>\n",
       "<p>12679504 rows × 3 columns</p>\n",
       "</div>"
      ],
      "text/plain": [
       "      from_id  to_id  travel_time\n",
       "7           0      7         37.0\n",
       "8           0      8        101.0\n",
       "10          0     10         57.0\n",
       "25          0     25         30.0\n",
       "26          0     26         22.0\n",
       "...       ...    ...          ...\n",
       "3404     8291   3404         82.0\n",
       "3405     8291   3405        106.0\n",
       "3407     8291   3407         77.0\n",
       "3408     8291   3408         62.0\n",
       "3410     8291   3410        107.0\n",
       "\n",
       "[12679504 rows x 3 columns]"
      ]
     },
     "execution_count": 41,
     "metadata": {},
     "output_type": "execute_result"
    }
   ],
   "source": [
    "travel_time_matrix[0].dropna()"
   ]
  },
  {
   "cell_type": "code",
   "execution_count": 17,
   "metadata": {},
   "outputs": [
    {
     "ename": "FileNotFoundError",
     "evalue": "[Errno 2] No such file or directory: 'transitland/stop_times_2023-01-19.txt'",
     "output_type": "error",
     "traceback": [
      "\u001b[0;31m---------------------------------------------------------------------------\u001b[0m",
      "\u001b[0;31mFileNotFoundError\u001b[0m                         Traceback (most recent call last)",
      "Cell \u001b[0;32mIn[17], line 6\u001b[0m\n\u001b[1;32m      2\u001b[0m \u001b[38;5;28;01mimport\u001b[39;00m \u001b[38;5;21;01mmatplotlib\u001b[39;00m\u001b[38;5;21;01m.\u001b[39;00m\u001b[38;5;21;01mpyplot\u001b[39;00m \u001b[38;5;28;01mas\u001b[39;00m \u001b[38;5;21;01mplt\u001b[39;00m\n\u001b[1;32m      4\u001b[0m file_paths \u001b[38;5;241m=\u001b[39m [\u001b[38;5;124m'\u001b[39m\u001b[38;5;124mtransitland/stop_times_\u001b[39m\u001b[38;5;132;01m{}\u001b[39;00m\u001b[38;5;124m.txt\u001b[39m\u001b[38;5;124m'\u001b[39m\u001b[38;5;241m.\u001b[39mformat(date) \u001b[38;5;28;01mfor\u001b[39;00m date \u001b[38;5;129;01min\u001b[39;00m unique_dates]\n\u001b[0;32m----> 6\u001b[0m data_frames \u001b[38;5;241m=\u001b[39m [pd\u001b[38;5;241m.\u001b[39mread_csv(file_path) \u001b[38;5;28;01mfor\u001b[39;00m file_path \u001b[38;5;129;01min\u001b[39;00m file_paths]\n\u001b[1;32m      7\u001b[0m combined_df \u001b[38;5;241m=\u001b[39m pd\u001b[38;5;241m.\u001b[39mconcat(data_frames, ignore_index\u001b[38;5;241m=\u001b[39m\u001b[38;5;28;01mTrue\u001b[39;00m)\n\u001b[1;32m      9\u001b[0m missing_percentages \u001b[38;5;241m=\u001b[39m []\n",
      "Cell \u001b[0;32mIn[17], line 6\u001b[0m, in \u001b[0;36m<listcomp>\u001b[0;34m(.0)\u001b[0m\n\u001b[1;32m      2\u001b[0m \u001b[38;5;28;01mimport\u001b[39;00m \u001b[38;5;21;01mmatplotlib\u001b[39;00m\u001b[38;5;21;01m.\u001b[39;00m\u001b[38;5;21;01mpyplot\u001b[39;00m \u001b[38;5;28;01mas\u001b[39;00m \u001b[38;5;21;01mplt\u001b[39;00m\n\u001b[1;32m      4\u001b[0m file_paths \u001b[38;5;241m=\u001b[39m [\u001b[38;5;124m'\u001b[39m\u001b[38;5;124mtransitland/stop_times_\u001b[39m\u001b[38;5;132;01m{}\u001b[39;00m\u001b[38;5;124m.txt\u001b[39m\u001b[38;5;124m'\u001b[39m\u001b[38;5;241m.\u001b[39mformat(date) \u001b[38;5;28;01mfor\u001b[39;00m date \u001b[38;5;129;01min\u001b[39;00m unique_dates]\n\u001b[0;32m----> 6\u001b[0m data_frames \u001b[38;5;241m=\u001b[39m [\u001b[43mpd\u001b[49m\u001b[38;5;241;43m.\u001b[39;49m\u001b[43mread_csv\u001b[49m\u001b[43m(\u001b[49m\u001b[43mfile_path\u001b[49m\u001b[43m)\u001b[49m \u001b[38;5;28;01mfor\u001b[39;00m file_path \u001b[38;5;129;01min\u001b[39;00m file_paths]\n\u001b[1;32m      7\u001b[0m combined_df \u001b[38;5;241m=\u001b[39m pd\u001b[38;5;241m.\u001b[39mconcat(data_frames, ignore_index\u001b[38;5;241m=\u001b[39m\u001b[38;5;28;01mTrue\u001b[39;00m)\n\u001b[1;32m      9\u001b[0m missing_percentages \u001b[38;5;241m=\u001b[39m []\n",
      "File \u001b[0;32m~/miniconda3/envs/myenv/lib/python3.10/site-packages/pandas/util/_decorators.py:211\u001b[0m, in \u001b[0;36mdeprecate_kwarg.<locals>._deprecate_kwarg.<locals>.wrapper\u001b[0;34m(*args, **kwargs)\u001b[0m\n\u001b[1;32m    209\u001b[0m     \u001b[39melse\u001b[39;00m:\n\u001b[1;32m    210\u001b[0m         kwargs[new_arg_name] \u001b[39m=\u001b[39m new_arg_value\n\u001b[0;32m--> 211\u001b[0m \u001b[39mreturn\u001b[39;00m func(\u001b[39m*\u001b[39;49margs, \u001b[39m*\u001b[39;49m\u001b[39m*\u001b[39;49mkwargs)\n",
      "File \u001b[0;32m~/miniconda3/envs/myenv/lib/python3.10/site-packages/pandas/util/_decorators.py:331\u001b[0m, in \u001b[0;36mdeprecate_nonkeyword_arguments.<locals>.decorate.<locals>.wrapper\u001b[0;34m(*args, **kwargs)\u001b[0m\n\u001b[1;32m    325\u001b[0m \u001b[39mif\u001b[39;00m \u001b[39mlen\u001b[39m(args) \u001b[39m>\u001b[39m num_allow_args:\n\u001b[1;32m    326\u001b[0m     warnings\u001b[39m.\u001b[39mwarn(\n\u001b[1;32m    327\u001b[0m         msg\u001b[39m.\u001b[39mformat(arguments\u001b[39m=\u001b[39m_format_argument_list(allow_args)),\n\u001b[1;32m    328\u001b[0m         \u001b[39mFutureWarning\u001b[39;00m,\n\u001b[1;32m    329\u001b[0m         stacklevel\u001b[39m=\u001b[39mfind_stack_level(),\n\u001b[1;32m    330\u001b[0m     )\n\u001b[0;32m--> 331\u001b[0m \u001b[39mreturn\u001b[39;00m func(\u001b[39m*\u001b[39;49margs, \u001b[39m*\u001b[39;49m\u001b[39m*\u001b[39;49mkwargs)\n",
      "File \u001b[0;32m~/miniconda3/envs/myenv/lib/python3.10/site-packages/pandas/io/parsers/readers.py:950\u001b[0m, in \u001b[0;36mread_csv\u001b[0;34m(filepath_or_buffer, sep, delimiter, header, names, index_col, usecols, squeeze, prefix, mangle_dupe_cols, dtype, engine, converters, true_values, false_values, skipinitialspace, skiprows, skipfooter, nrows, na_values, keep_default_na, na_filter, verbose, skip_blank_lines, parse_dates, infer_datetime_format, keep_date_col, date_parser, dayfirst, cache_dates, iterator, chunksize, compression, thousands, decimal, lineterminator, quotechar, quoting, doublequote, escapechar, comment, encoding, encoding_errors, dialect, error_bad_lines, warn_bad_lines, on_bad_lines, delim_whitespace, low_memory, memory_map, float_precision, storage_options)\u001b[0m\n\u001b[1;32m    935\u001b[0m kwds_defaults \u001b[39m=\u001b[39m _refine_defaults_read(\n\u001b[1;32m    936\u001b[0m     dialect,\n\u001b[1;32m    937\u001b[0m     delimiter,\n\u001b[0;32m   (...)\u001b[0m\n\u001b[1;32m    946\u001b[0m     defaults\u001b[39m=\u001b[39m{\u001b[39m\"\u001b[39m\u001b[39mdelimiter\u001b[39m\u001b[39m\"\u001b[39m: \u001b[39m\"\u001b[39m\u001b[39m,\u001b[39m\u001b[39m\"\u001b[39m},\n\u001b[1;32m    947\u001b[0m )\n\u001b[1;32m    948\u001b[0m kwds\u001b[39m.\u001b[39mupdate(kwds_defaults)\n\u001b[0;32m--> 950\u001b[0m \u001b[39mreturn\u001b[39;00m _read(filepath_or_buffer, kwds)\n",
      "File \u001b[0;32m~/miniconda3/envs/myenv/lib/python3.10/site-packages/pandas/io/parsers/readers.py:605\u001b[0m, in \u001b[0;36m_read\u001b[0;34m(filepath_or_buffer, kwds)\u001b[0m\n\u001b[1;32m    602\u001b[0m _validate_names(kwds\u001b[39m.\u001b[39mget(\u001b[39m\"\u001b[39m\u001b[39mnames\u001b[39m\u001b[39m\"\u001b[39m, \u001b[39mNone\u001b[39;00m))\n\u001b[1;32m    604\u001b[0m \u001b[39m# Create the parser.\u001b[39;00m\n\u001b[0;32m--> 605\u001b[0m parser \u001b[39m=\u001b[39m TextFileReader(filepath_or_buffer, \u001b[39m*\u001b[39;49m\u001b[39m*\u001b[39;49mkwds)\n\u001b[1;32m    607\u001b[0m \u001b[39mif\u001b[39;00m chunksize \u001b[39mor\u001b[39;00m iterator:\n\u001b[1;32m    608\u001b[0m     \u001b[39mreturn\u001b[39;00m parser\n",
      "File \u001b[0;32m~/miniconda3/envs/myenv/lib/python3.10/site-packages/pandas/io/parsers/readers.py:1442\u001b[0m, in \u001b[0;36mTextFileReader.__init__\u001b[0;34m(self, f, engine, **kwds)\u001b[0m\n\u001b[1;32m   1439\u001b[0m     \u001b[39mself\u001b[39m\u001b[39m.\u001b[39moptions[\u001b[39m\"\u001b[39m\u001b[39mhas_index_names\u001b[39m\u001b[39m\"\u001b[39m] \u001b[39m=\u001b[39m kwds[\u001b[39m\"\u001b[39m\u001b[39mhas_index_names\u001b[39m\u001b[39m\"\u001b[39m]\n\u001b[1;32m   1441\u001b[0m \u001b[39mself\u001b[39m\u001b[39m.\u001b[39mhandles: IOHandles \u001b[39m|\u001b[39m \u001b[39mNone\u001b[39;00m \u001b[39m=\u001b[39m \u001b[39mNone\u001b[39;00m\n\u001b[0;32m-> 1442\u001b[0m \u001b[39mself\u001b[39m\u001b[39m.\u001b[39m_engine \u001b[39m=\u001b[39m \u001b[39mself\u001b[39;49m\u001b[39m.\u001b[39;49m_make_engine(f, \u001b[39mself\u001b[39;49m\u001b[39m.\u001b[39;49mengine)\n",
      "File \u001b[0;32m~/miniconda3/envs/myenv/lib/python3.10/site-packages/pandas/io/parsers/readers.py:1735\u001b[0m, in \u001b[0;36mTextFileReader._make_engine\u001b[0;34m(self, f, engine)\u001b[0m\n\u001b[1;32m   1733\u001b[0m     \u001b[39mif\u001b[39;00m \u001b[39m\"\u001b[39m\u001b[39mb\u001b[39m\u001b[39m\"\u001b[39m \u001b[39mnot\u001b[39;00m \u001b[39min\u001b[39;00m mode:\n\u001b[1;32m   1734\u001b[0m         mode \u001b[39m+\u001b[39m\u001b[39m=\u001b[39m \u001b[39m\"\u001b[39m\u001b[39mb\u001b[39m\u001b[39m\"\u001b[39m\n\u001b[0;32m-> 1735\u001b[0m \u001b[39mself\u001b[39m\u001b[39m.\u001b[39mhandles \u001b[39m=\u001b[39m get_handle(\n\u001b[1;32m   1736\u001b[0m     f,\n\u001b[1;32m   1737\u001b[0m     mode,\n\u001b[1;32m   1738\u001b[0m     encoding\u001b[39m=\u001b[39;49m\u001b[39mself\u001b[39;49m\u001b[39m.\u001b[39;49moptions\u001b[39m.\u001b[39;49mget(\u001b[39m\"\u001b[39;49m\u001b[39mencoding\u001b[39;49m\u001b[39m\"\u001b[39;49m, \u001b[39mNone\u001b[39;49;00m),\n\u001b[1;32m   1739\u001b[0m     compression\u001b[39m=\u001b[39;49m\u001b[39mself\u001b[39;49m\u001b[39m.\u001b[39;49moptions\u001b[39m.\u001b[39;49mget(\u001b[39m\"\u001b[39;49m\u001b[39mcompression\u001b[39;49m\u001b[39m\"\u001b[39;49m, \u001b[39mNone\u001b[39;49;00m),\n\u001b[1;32m   1740\u001b[0m     memory_map\u001b[39m=\u001b[39;49m\u001b[39mself\u001b[39;49m\u001b[39m.\u001b[39;49moptions\u001b[39m.\u001b[39;49mget(\u001b[39m\"\u001b[39;49m\u001b[39mmemory_map\u001b[39;49m\u001b[39m\"\u001b[39;49m, \u001b[39mFalse\u001b[39;49;00m),\n\u001b[1;32m   1741\u001b[0m     is_text\u001b[39m=\u001b[39;49mis_text,\n\u001b[1;32m   1742\u001b[0m     errors\u001b[39m=\u001b[39;49m\u001b[39mself\u001b[39;49m\u001b[39m.\u001b[39;49moptions\u001b[39m.\u001b[39;49mget(\u001b[39m\"\u001b[39;49m\u001b[39mencoding_errors\u001b[39;49m\u001b[39m\"\u001b[39;49m, \u001b[39m\"\u001b[39;49m\u001b[39mstrict\u001b[39;49m\u001b[39m\"\u001b[39;49m),\n\u001b[1;32m   1743\u001b[0m     storage_options\u001b[39m=\u001b[39;49m\u001b[39mself\u001b[39;49m\u001b[39m.\u001b[39;49moptions\u001b[39m.\u001b[39;49mget(\u001b[39m\"\u001b[39;49m\u001b[39mstorage_options\u001b[39;49m\u001b[39m\"\u001b[39;49m, \u001b[39mNone\u001b[39;49;00m),\n\u001b[1;32m   1744\u001b[0m )\n\u001b[1;32m   1745\u001b[0m \u001b[39massert\u001b[39;00m \u001b[39mself\u001b[39m\u001b[39m.\u001b[39mhandles \u001b[39mis\u001b[39;00m \u001b[39mnot\u001b[39;00m \u001b[39mNone\u001b[39;00m\n\u001b[1;32m   1746\u001b[0m f \u001b[39m=\u001b[39m \u001b[39mself\u001b[39m\u001b[39m.\u001b[39mhandles\u001b[39m.\u001b[39mhandle\n",
      "File \u001b[0;32m~/miniconda3/envs/myenv/lib/python3.10/site-packages/pandas/io/common.py:856\u001b[0m, in \u001b[0;36mget_handle\u001b[0;34m(path_or_buf, mode, encoding, compression, memory_map, is_text, errors, storage_options)\u001b[0m\n\u001b[1;32m    851\u001b[0m \u001b[39melif\u001b[39;00m \u001b[39misinstance\u001b[39m(handle, \u001b[39mstr\u001b[39m):\n\u001b[1;32m    852\u001b[0m     \u001b[39m# Check whether the filename is to be opened in binary mode.\u001b[39;00m\n\u001b[1;32m    853\u001b[0m     \u001b[39m# Binary mode does not support 'encoding' and 'newline'.\u001b[39;00m\n\u001b[1;32m    854\u001b[0m     \u001b[39mif\u001b[39;00m ioargs\u001b[39m.\u001b[39mencoding \u001b[39mand\u001b[39;00m \u001b[39m\"\u001b[39m\u001b[39mb\u001b[39m\u001b[39m\"\u001b[39m \u001b[39mnot\u001b[39;00m \u001b[39min\u001b[39;00m ioargs\u001b[39m.\u001b[39mmode:\n\u001b[1;32m    855\u001b[0m         \u001b[39m# Encoding\u001b[39;00m\n\u001b[0;32m--> 856\u001b[0m         handle \u001b[39m=\u001b[39m \u001b[39mopen\u001b[39;49m(\n\u001b[1;32m    857\u001b[0m             handle,\n\u001b[1;32m    858\u001b[0m             ioargs\u001b[39m.\u001b[39;49mmode,\n\u001b[1;32m    859\u001b[0m             encoding\u001b[39m=\u001b[39;49mioargs\u001b[39m.\u001b[39;49mencoding,\n\u001b[1;32m    860\u001b[0m             errors\u001b[39m=\u001b[39;49merrors,\n\u001b[1;32m    861\u001b[0m             newline\u001b[39m=\u001b[39;49m\u001b[39m\"\u001b[39;49m\u001b[39m\"\u001b[39;49m,\n\u001b[1;32m    862\u001b[0m         )\n\u001b[1;32m    863\u001b[0m     \u001b[39melse\u001b[39;00m:\n\u001b[1;32m    864\u001b[0m         \u001b[39m# Binary mode\u001b[39;00m\n\u001b[1;32m    865\u001b[0m         handle \u001b[39m=\u001b[39m \u001b[39mopen\u001b[39m(handle, ioargs\u001b[39m.\u001b[39mmode)\n",
      "\u001b[0;31mFileNotFoundError\u001b[0m: [Errno 2] No such file or directory: 'transitland/stop_times_2023-01-19.txt'"
     ]
    }
   ],
   "source": [
    "import pandas as pd\n",
    "import matplotlib.pyplot as plt\n",
    "\n",
    "file_paths = ['transitland/stop_times_{}.txt'.format(date) for date in unique_dates]\n",
    "\n",
    "data_frames = [pd.read_csv(file_path) for file_path in file_paths]\n",
    "combined_df = pd.concat(data_frames, ignore_index=True)\n",
    "\n",
    "missing_percentages = []\n",
    "\n",
    "for trip_id in combined_df['trip_id'].unique():\n",
    "    group = combined_df[combined_df['trip_id'] == trip_id]\n",
    "    missing_percentage = (group['arrival_time'].isnull() & group['departure_time'].isnull()).mean() * 100\n",
    "    missing_percentages.append(missing_percentage)\n",
    "    if (missing_percentage > 80): \n",
    "        print(trip_id)\n",
    "\n",
    "plt.hist(missing_percentages, bins=10, edgecolor='black')\n",
    "plt.xlabel('Percentage of Missing Data')\n",
    "plt.ylabel('Frequency')\n",
    "plt.title('Histogram of Missing Data Percentage by Trip')\n",
    "plt.show()"
   ]
  }
 ],
 "metadata": {
  "kernelspec": {
   "display_name": "Python 3.10.11 ('myenv')",
   "language": "python",
   "name": "python3"
  },
  "language_info": {
   "codemirror_mode": {
    "name": "ipython",
    "version": 3
   },
   "file_extension": ".py",
   "mimetype": "text/x-python",
   "name": "python",
   "nbconvert_exporter": "python",
   "pygments_lexer": "ipython3",
   "version": "3.11.3"
  },
  "orig_nbformat": 4,
  "vscode": {
   "interpreter": {
    "hash": "629156728ce680fd9db38cb3a5c62ea383777f77ec1eb0420e4af00b9a9e4e76"
   }
  }
 },
 "nbformat": 4,
 "nbformat_minor": 2
}
