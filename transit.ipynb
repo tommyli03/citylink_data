{
 "cells": [
  {
   "cell_type": "code",
   "execution_count": null,
   "metadata": {},
   "outputs": [],
   "source": [
    "import zipfile\n",
    "import requests\n",
    "\n",
    "zip_file_path = 'tl_2020_24_tabblock20.zip'\n",
    "\n",
    "# Open the ZIP file\n",
    "with zipfile.ZipFile(zip_file_path, 'r') as zip_ref:\n",
    "    # Extract all files to the current working directory\n",
    "    zip_ref.extractall()\n",
    "\n",
    "shapefile_path = 'tl_2020_24_tabblock20.shp'\n",
    "block_gdf = gpd.read_file(shapefile_path)"
   ]
  },
  {
   "cell_type": "code",
   "execution_count": null,
   "metadata": {},
   "outputs": [],
   "source": [
    "url = \"https://transit.land/api/v2/rest/feed_versions/8523f088e05dcd273b369dd4d65eb771c73c0a22/download?apikey=T2Jljq0EQqqe1JMfijkn3RdtVxoYpwuq\"\n",
    "response = requests.get(url)\n",
    "\n",
    "if response.status_code == 200:\n",
    "    with open(\"output.zip\", \"wb\") as f:\n",
    "        f.write(response.content)\n",
    "    print(\"File downloaded successfully.\")\n",
    "else:\n",
    "    print(\"Failed to download the file.\")\n",
    "\n",
    "import os\n",
    "\n",
    "zip_file_path = 'output.zip'\n",
    "extract_to_folder = 'transitland'\n",
    "os.makedirs(extract_to_folder, exist_ok=True)\n",
    "\n",
    "# Open the ZIP file\n",
    "with zipfile.ZipFile(zip_file_path, 'r') as zip_ref:\n",
    "    # Extract all files to the current working directory\n",
    "    zip_ref.extractall(extract_to_folder)"
   ]
  },
  {
   "cell_type": "code",
   "execution_count": null,
   "metadata": {},
   "outputs": [],
   "source": [
    "import pandas as pd\n",
    "import os\n",
    "import urllib.request\n",
    "import gzip\n",
    "import shutil\n",
    "from itertools import accumulate\n",
    "import zipfile\n",
    "\n",
    "\n",
    "def download_files(url, raw_path):\n",
    "    zip_path, _ = urllib.request.urlretrieve(url)\n",
    "    with zipfile.ZipFile(zip_path, \"r\") as f:\n",
    "        f.extractall(raw_path)\n",
    "\n",
    "def get_lodes_file(raw_path, lodes_type, file_name):\n",
    "    lodes_file = raw_path + file_name\n",
    "    if not os.path.isfile(lodes_file):\n",
    "        print(\"Downloading LODES data into \" + lodes_file)\n",
    "        url = f\"https://lehd.ces.census.gov/data/lodes/LODES7/md/{lodes_type}/{file_name}.gz\"\n",
    "        urllib.request.urlretrieve(url, raw_path + \"tmp.gz\")\n",
    "        with gzip.open(raw_path + \"tmp.gz\", \"rb\") as f_in:\n",
    "            with open(lodes_file, \"wb\") as f_out:\n",
    "                shutil.copyfileobj(f_in, f_out)\n",
    "        os.remove(raw_path + \"tmp.gz\")\n",
    "    lodes_data = pd.read_csv(lodes_file)\n",
    "    return lodes_data\n",
    "\n",
    "def set_paths(prefix = \"../\"):\n",
    "    processed_relpath = f\"{prefix}processed_data/\"\n",
    "    raw_relpath = f\"{prefix}raw_data/\"\n",
    "\n",
    "    processed_path = os.path.join(processed_relpath)\n",
    "    raw_path = os.path.join(raw_relpath)\n",
    "    return raw_path, processed_path\n",
    "\n",
    "def replace_tracts(df):\n",
    "    return df.replace([\"24510180100\", \"24510180200\"], \"24510280600\")\n",
    "\n",
    "def restrict_to_Baltimore(df, col):\n",
    "    tracts = pd.read_csv(\"../raw_data/Baltimore_tracts.csv\")['tracts'].astype(str).tolist()\n",
    "    return df[df[col].isin(tracts)]\n",
    "\n",
    "def extract_tract_FIPS(df, col):\n",
    "    return df[col].apply(lambda x: str(x)[-11:])\n",
    "\n",
    "def FIPS_to_str(df, col):\n",
    "    return df[col].apply(lambda x: str(x)[:11])\n",
    "\n",
    "\n",
    "def cumulativeSum(lst):\n",
    "    return list(accumulate(lst))"
   ]
  }
 ],
 "metadata": {
  "kernelspec": {
   "display_name": "Python 3.10.11 ('myenv')",
   "language": "python",
   "name": "python3"
  },
  "language_info": {
   "codemirror_mode": {
    "name": "ipython",
    "version": 3
   },
   "file_extension": ".py",
   "mimetype": "text/x-python",
   "name": "python",
   "nbconvert_exporter": "python",
   "pygments_lexer": "ipython3",
   "version": "3.11.3"
  },
  "orig_nbformat": 4,
  "vscode": {
   "interpreter": {
    "hash": "629156728ce680fd9db38cb3a5c62ea383777f77ec1eb0420e4af00b9a9e4e76"
   }
  }
 },
 "nbformat": 4,
 "nbformat_minor": 2
}
